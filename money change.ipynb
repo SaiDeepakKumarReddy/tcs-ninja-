{
 "cells": [
  {
   "cell_type": "code",
   "execution_count": 10,
   "id": "0a650ea9",
   "metadata": {},
   "outputs": [
    {
     "name": "stdout",
     "output_type": "stream",
     "text": [
      "99\n",
      "14\n"
     ]
    }
   ],
   "source": [
    "number=int(input())\n",
    "ten=0\n",
    "five=0\n",
    "one=0\n",
    "if(number>=10):\n",
    "    ten=int(number/10)\n",
    "    number=number%10\n",
    "    if(number>=5 and number<10):\n",
    "        five=int(number/5)\n",
    "        number=number%5\n",
    "        if(number>=1 and number<5):\n",
    "            one=int(number)\n",
    "print(ten+five+one)    \n",
    "    \n",
    "    "
   ]
  },
  {
   "cell_type": "code",
   "execution_count": null,
   "id": "5c4e0702",
   "metadata": {},
   "outputs": [],
   "source": []
  }
 ],
 "metadata": {
  "kernelspec": {
   "display_name": "Python 3",
   "language": "python",
   "name": "python3"
  },
  "language_info": {
   "codemirror_mode": {
    "name": "ipython",
    "version": 3
   },
   "file_extension": ".py",
   "mimetype": "text/x-python",
   "name": "python",
   "nbconvert_exporter": "python",
   "pygments_lexer": "ipython3",
   "version": "3.8.8"
  }
 },
 "nbformat": 4,
 "nbformat_minor": 5
}
