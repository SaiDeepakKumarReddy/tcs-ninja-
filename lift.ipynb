{
 "cells": [
  {
   "cell_type": "code",
   "execution_count": 6,
   "id": "024d54bb",
   "metadata": {},
   "outputs": [
    {
     "name": "stdout",
     "output_type": "stream",
     "text": [
      "2\n",
      "3\n",
      "A\n",
      "5\n",
      "B\n"
     ]
    }
   ],
   "source": [
    "ts=int(input())\n",
    "a=0\n",
    "b=7\n",
    "d1=0\n",
    "d2=0\n",
    "for i in range(ts):\n",
    "    level=int(input())\n",
    "    if(1<=level<=7):\n",
    "        d1=level-a\n",
    "        d2=b-level\n",
    "        if(d1>=d2):\n",
    "            print(\"B\")\n",
    "            b=b-d2\n",
    "        elif(d1<d2):\n",
    "            print(\"A\")\n",
    "            a=d1-a"
   ]
  },
  {
   "cell_type": "code",
   "execution_count": null,
   "id": "fc1cddf1",
   "metadata": {},
   "outputs": [],
   "source": []
  }
 ],
 "metadata": {
  "kernelspec": {
   "display_name": "Python 3",
   "language": "python",
   "name": "python3"
  },
  "language_info": {
   "codemirror_mode": {
    "name": "ipython",
    "version": 3
   },
   "file_extension": ".py",
   "mimetype": "text/x-python",
   "name": "python",
   "nbconvert_exporter": "python",
   "pygments_lexer": "ipython3",
   "version": "3.8.8"
  }
 },
 "nbformat": 4,
 "nbformat_minor": 5
}
